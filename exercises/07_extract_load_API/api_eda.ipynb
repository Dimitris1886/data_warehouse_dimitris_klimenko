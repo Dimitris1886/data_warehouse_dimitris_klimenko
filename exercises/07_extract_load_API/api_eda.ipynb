{
 "cells": [
  {
   "cell_type": "code",
   "execution_count": 8,
   "metadata": {},
   "outputs": [
    {
     "name": "stdout",
     "output_type": "stream",
     "text": [
      "Konsultuppdrag: Senior Data Engineer - Stockholm, Transformation Hub AB\n",
      "Data Engineer till Sogeti Stockholm, Sogeti Sverige AB\n",
      "Data Engineer, Nextory AB\n",
      "Driven Data Engineer till Novatrox, Framtiden i Sverige AB\n",
      "Lead Platform Data Engineer, AB Electrolux\n",
      "Data Engineer (Python/ETL/Qlik), Randstad AB\n",
      "Data Engineer - Portfolio Brands, H & M Hennes & Mauritz Gbc AB\n",
      "Data Engineer, AB Trav och Galopp\n",
      "Data Engineer, Hemnet AB\n",
      "Data Engineer , Demaai AB\n",
      "Data Engineer, Stockholm Exergi AB\n",
      "Data Engineer, SkillHuset Sweden AB\n",
      "Senior Data Engineer, Sambla Group AB\n",
      "DATA ENGINEER, Jobbusters AB\n",
      "Data Engineer till Matas Group, Ants Akademiskt Nätverk av Tekniska Studenter AB\n",
      "Data Engineer, Gears Of Leo AB\n",
      "Data Engineer, NXT Interim Stockholm AB\n",
      "Data Engineer, Qliro AB\n",
      "Senior Data Engineer, SwedQ AB\n",
      "Data Engineer, Majority Sweden AB\n",
      "Senior Data Engineer, Redeploy AB\n",
      "Data Engineer, Redeploy AB\n",
      "Data Engineer, Kambi Sweden AB\n",
      "Data Engineer - Platform Infrastructure, Platform 24 Healthcare AB\n",
      "Data Engineer, Epidemic Sound AB\n",
      "Erfaren Data Engineer, Knowit AB (Publ)\n",
      "Data Engineer med fokus på SAS, Knowit AB (Publ)\n",
      "Senior Data Engineer, Qinshift AB\n",
      "Senior Data Engineer, Castra Group AB\n"
     ]
    }
   ],
   "source": [
    "import requests\n",
    "import json\n",
    "\n",
    "\n",
    "url = 'https://jobsearch.api.jobtechdev.se'\n",
    "url_for_search = f\"{url}/search\"\n",
    "\n",
    "\n",
    "def _get_ads(params): # _get_ads private function\n",
    "    headers = {'accept': 'application/json'}\n",
    "    response = requests.get(url_for_search, headers=headers, params=params)\n",
    "    response.raise_for_status()  # check for http errors\n",
    "    return json.loads(response.content.decode('utf8'))\n",
    "\n",
    "\n",
    "def example_search_return_number_of_hits(query):\n",
    "    # limit: 0 means no ads, just a value of how many ads were found.\n",
    "    search_params = {'q': query, 'limit': 0}\n",
    "    json_response = _get_ads(search_params)\n",
    "    number_of_hits = json_response['total']['value']\n",
    "    print(f\"\\nNumber of hits = {number_of_hits}\")\n",
    "\n",
    "\n",
    "def example_search_loop_through_hits(query):\n",
    "    # limit = 100 is the max number of hits that can be returned.\n",
    "    # If there are more (which you find with ['total']['value'] in the json response)\n",
    "    # you have to use offset and multiple requests to get all ads.\n",
    "    search_params = {'q': query, 'limit': 100}\n",
    "    json_response = _get_ads(search_params)\n",
    "    hits = json_response['hits']\n",
    "    for hit in hits:\n",
    "        print(f\"{hit['headline']}, {hit['employer']['name']}\")\n",
    "\n",
    "\n",
    "\n",
    "query = 'Data Engineer Stockholm'\n",
    "example_search_loop_through_hits(query)\n"
   ]
  },
  {
   "cell_type": "code",
   "execution_count": 9,
   "metadata": {},
   "outputs": [
    {
     "name": "stdout",
     "output_type": "stream",
     "text": [
      "\n",
      "Number of hits = 29\n"
     ]
    }
   ],
   "source": [
    "example_search_return_number_of_hits(query)"
   ]
  },
  {
   "cell_type": "code",
   "execution_count": 11,
   "metadata": {},
   "outputs": [],
   "source": [
    "search_params = {'q': query, 'limit': 100}\n",
    "json_response = _get_ads(search_params)\n",
    "#json_response\n"
   ]
  },
  {
   "cell_type": "code",
   "execution_count": 12,
   "metadata": {},
   "outputs": [
    {
     "data": {
      "text/plain": [
       "dict_keys(['total', 'positions', 'query_time_in_millis', 'result_time_in_millis', 'stats', 'freetext_concepts', 'hits'])"
      ]
     },
     "execution_count": 12,
     "metadata": {},
     "output_type": "execute_result"
    }
   ],
   "source": [
    "json_response.keys()"
   ]
  },
  {
   "cell_type": "code",
   "execution_count": 17,
   "metadata": {},
   "outputs": [
    {
     "data": {
      "text/plain": [
       "29"
      ]
     },
     "execution_count": 17,
     "metadata": {},
     "output_type": "execute_result"
    }
   ],
   "source": [
    "len(json_response[\"hits\"])"
   ]
  },
  {
   "cell_type": "code",
   "execution_count": 18,
   "metadata": {},
   "outputs": [
    {
     "data": {
      "text/plain": [
       "{'relevance': 0.9376975351516836,\n",
       " 'id': '29023807',\n",
       " 'external_id': '46-556631-4687-60931-145037',\n",
       " 'original_id': None,\n",
       " 'label': '[]',\n",
       " 'webpage_url': 'https://arbetsformedlingen.se/platsbanken/annonser/29023807',\n",
       " 'logo_url': 'https://www.arbetsformedlingen.se/rest/arbetsgivare/rest/af/v3/organisation/5566314687/logotyper/logo.png',\n",
       " 'headline': 'Data Engineer till Sogeti Stockholm',\n",
       " 'application_deadline': '2024-09-10T23:59:59',\n",
       " 'number_of_vacancies': 4,\n",
       " 'description': {'text': 'Hos får du möjligheten och utmaningen att växa som Data Engineer?\\n\\nVad vi letar efter:\\nVi har flera stora projekt/engagemang på gång tillsammans med våra största kunder här i Stockholm så i första hand är det till dessa vi söker nya medarbetare.\\n\\nVi tänker oss att du älskar att bygga och leverera lösningar för stora datamängder utifrån kundens behov och trivs också med att arbeta nära tillsammans med andra i ett team. Du drivs av att hitta nya sätt att göra saker på, ser möjligheter där andra ser problem och tycker om när det hela tiden händer någonting. Du arbetar självständigt inom dina områden samtidigt som du gärna lär dig av andra eller själv höjer kunskaperna i gruppen. Självklart har du ett stort intresse för teknik inom Data Management!\\n\\nDina erfarenheter:\\n\\n - \\nFör den ena kunden så behöver du ha jobbat minst 3-4 år som Data Engineer och du har erfarenhet av t ex Informatica, Mainframe, ODI och de vanligaste integrationsverktygen. Har du även erfrenhet av Teradata är det toppen! Här kommer du blanda annat att få ta dig an nya DW-lösningar.\\n\\n - \\nMot andra kunder söker vi dig som också jobbat minst 4-5 år som Data Engineer men instället har ett fokus på Microsoft-tekniker. T ex bör du har erfarenhet av Azure Data Factory, Databricks, Synapse eller Azure Storage mm. Det är också väldigt meriterande om du kan Kafka eller Ab-Initio samt om du har erfarenhet av lösningar inom Data Warehouse eller Data Lake.\\n\\n\\nInom båda dessa områden kommer du att få jobba med viktiga uppdrag som har stor påverkan på kundernas organisationer, du kommer göra direkt skillnad! \\n\\nTill sist behöver du kunna svenska bra och så klart även använda engelska i både tal och skrift. \\n\\nHär kan du läsa mer om hur vi jobbar med hela spektrat a av Data/AI:\\nData & AI (sogeti.se)\\n\\nVälkommen med din ansökan, idag!\\n\\n\\r\\n\\n\\nSogeti Sverige, en del av Capgemini-koncernen, med 21 kontor och 1300 medarbetare, skapar affärsvärde med teknologi för organisationer som behöver införa innovation snabbt och som vill ha en lokal partner med global skalbarhet. Med en hands-on-kultur och närhet till kunderna, implementerar Sogeti lösningar som hjälper organisationer att arbeta snabbare, bättre och smartare. Genom att kombinera agilitet och snabb implementation via en DevOps-ansats, levererar Sogeti innovativa lösningar inom test- och kvalitetssäkring, molnet och systemutveckling, förstärkta av AI, data och automation. \\n\\nAlla människor ska ha samma möjligheter. Inte minst i sitt arbete, därför är jämställdhet en självklarhet för oss och vi tar mängder av initiativ för att främja detta, bland annat genom #addher - ett av Sveriges största nätverk för kvinnor i IT-branschen.',\n",
       "  'text_formatted': 'Hos får du möjligheten och utmaningen att växa som Data Engineer?\\n\\nVad vi letar efter:\\nVi har flera stora projekt/engagemang på gång tillsammans med våra största kunder här i Stockholm så i första hand är det till dessa vi söker nya medarbetare.\\n\\nVi tänker oss att du älskar att bygga och leverera lösningar för stora datamängder utifrån kundens behov och trivs också med att arbeta nära tillsammans med andra i ett team. Du drivs av att hitta nya sätt att göra saker på, ser möjligheter där andra ser problem och tycker om när det hela tiden händer någonting. Du arbetar självständigt inom dina områden samtidigt som du gärna lär dig av andra eller själv höjer kunskaperna i gruppen. Självklart har du ett stort intresse för teknik inom Data Management!\\n\\nDina erfarenheter:\\n\\n - \\nFör den ena kunden så behöver du ha jobbat minst 3-4 år som Data Engineer och du har erfarenhet av t ex Informatica, Mainframe, ODI och de vanligaste integrationsverktygen. Har du även erfrenhet av Teradata är det toppen! Här kommer du blanda annat att få ta dig an nya DW-lösningar.\\n\\n - \\nMot andra kunder söker vi dig som också jobbat minst 4-5 år som Data Engineer men instället har ett fokus på Microsoft-tekniker. T ex bör du har erfarenhet av Azure Data Factory, Databricks, Synapse eller Azure Storage mm. Det är också väldigt meriterande om du kan Kafka eller Ab-Initio samt om du har erfarenhet av lösningar inom Data Warehouse eller Data Lake.\\n\\n\\nInom båda dessa områden kommer du att få jobba med viktiga uppdrag som har stor påverkan på kundernas organisationer, du kommer göra direkt skillnad! \\n\\nTill sist behöver du kunna svenska bra och så klart även använda engelska i både tal och skrift. \\n\\nHär kan du läsa mer om hur vi jobbar med hela spektrat a av Data/AI:\\nData &amp; AI (sogeti.se)\\n\\nVälkommen med din ansökan, idag!\\n\\n\\r\\n\\n\\nSogeti Sverige, en del av Capgemini-koncernen, med 21 kontor och 1300 medarbetare, skapar affärsvärde med teknologi för organisationer som behöver införa innovation snabbt och som vill ha en lokal partner med global skalbarhet. Med en hands-on-kultur och närhet till kunderna, implementerar Sogeti lösningar som hjälper organisationer att arbeta snabbare, bättre och smartare. Genom att kombinera agilitet och snabb implementation via en DevOps-ansats, levererar Sogeti innovativa lösningar inom test- och kvalitetssäkring, molnet och systemutveckling, förstärkta av AI, data och automation. \\n\\nAlla människor ska ha samma möjligheter. Inte minst i sitt arbete, därför är jämställdhet en självklarhet för oss och vi tar mängder av initiativ för att främja detta, bland annat genom #addher - ett av Sveriges största nätverk för kvinnor i IT-branschen.',\n",
       "  'company_information': None,\n",
       "  'needs': None,\n",
       "  'requirements': None,\n",
       "  'conditions': 'Heltid\\r\\nTillsvidare'},\n",
       " 'employment_type': {'concept_id': 'PFZr_Syz_cUq',\n",
       "  'label': 'Vanlig anställning',\n",
       "  'legacy_ams_taxonomy_id': '1'},\n",
       " 'salary_type': {'concept_id': 'oG8G_9cW_nRf',\n",
       "  'label': 'Fast månads- vecko- eller timlön',\n",
       "  'legacy_ams_taxonomy_id': '1'},\n",
       " 'salary_description': 'Fast månads- vecko- eller timlön',\n",
       " 'duration': {'concept_id': 'a7uU_j21_mkL',\n",
       "  'label': 'Tills vidare',\n",
       "  'legacy_ams_taxonomy_id': '1'},\n",
       " 'working_hours_type': {'concept_id': '6YE1_gAC_R2G',\n",
       "  'label': 'Heltid',\n",
       "  'legacy_ams_taxonomy_id': '1'},\n",
       " 'scope_of_work': {'min': 100, 'max': 100},\n",
       " 'access': None,\n",
       " 'employer': {'phone_number': None,\n",
       "  'email': None,\n",
       "  'url': 'https://www.sogeti.se/',\n",
       "  'organization_number': '5566314687',\n",
       "  'name': 'Sogeti Sverige AB',\n",
       "  'workplace': 'Sogeti'},\n",
       " 'application_details': {'information': None,\n",
       "  'reference': None,\n",
       "  'email': None,\n",
       "  'via_af': False,\n",
       "  'url': 'https://emp.jobylon.com/applications/jobs/60931/create/?utm_source=ams&utm_medium=promotionserializer',\n",
       "  'other': None},\n",
       " 'experience_required': True,\n",
       " 'access_to_own_car': False,\n",
       " 'driving_license_required': False,\n",
       " 'driving_license': None,\n",
       " 'occupation': {'concept_id': 'rz2m_96d_vyF',\n",
       "  'label': 'Databasutvecklare',\n",
       "  'legacy_ams_taxonomy_id': '2423'},\n",
       " 'occupation_group': {'concept_id': 'DJh5_yyF_hEM',\n",
       "  'label': 'Mjukvaru- och systemutvecklare m.fl.',\n",
       "  'legacy_ams_taxonomy_id': '2512'},\n",
       " 'occupation_field': {'concept_id': 'apaJ_2ja_LuF',\n",
       "  'label': 'Data/IT',\n",
       "  'legacy_ams_taxonomy_id': '3'},\n",
       " 'workplace_address': {'municipality': 'Solna',\n",
       "  'municipality_code': '0184',\n",
       "  'municipality_concept_id': 'zHxw_uJZ_NJ8',\n",
       "  'region': 'Stockholms län',\n",
       "  'region_code': '01',\n",
       "  'region_concept_id': 'CifL_Rzy_Mku',\n",
       "  'country': 'Sverige',\n",
       "  'country_code': '199',\n",
       "  'country_concept_id': 'i46j_HmG_v64',\n",
       "  'street_address': None,\n",
       "  'postcode': None,\n",
       "  'city': None,\n",
       "  'coordinates': [18.008434, 59.368877]},\n",
       " 'must_have': {'skills': [],\n",
       "  'languages': [],\n",
       "  'work_experiences': [{'weight': 10,\n",
       "    'concept_id': 'rz2m_96d_vyF',\n",
       "    'label': 'Databasutvecklare',\n",
       "    'legacy_ams_taxonomy_id': '2423'}],\n",
       "  'education': [],\n",
       "  'education_level': []},\n",
       " 'nice_to_have': {'skills': [],\n",
       "  'languages': [],\n",
       "  'work_experiences': [],\n",
       "  'education': [],\n",
       "  'education_level': []},\n",
       " 'application_contacts': [],\n",
       " 'publication_date': '2024-08-15T14:42:59',\n",
       " 'last_publication_date': '2024-09-10T23:59:59',\n",
       " 'removed': False,\n",
       " 'removed_date': None,\n",
       " 'source_type': 'VIA_PLATSBANKEN_DXA',\n",
       " 'timestamp': 1723725779777}"
      ]
     },
     "execution_count": 18,
     "metadata": {},
     "output_type": "execute_result"
    }
   ],
   "source": [
    "json_response[\"hits\"][1] # particular job"
   ]
  },
  {
   "cell_type": "code",
   "execution_count": 19,
   "metadata": {},
   "outputs": [
    {
     "data": {
      "text/plain": [
       "dict_keys(['relevance', 'id', 'external_id', 'original_id', 'label', 'webpage_url', 'logo_url', 'headline', 'application_deadline', 'number_of_vacancies', 'description', 'employment_type', 'salary_type', 'salary_description', 'duration', 'working_hours_type', 'scope_of_work', 'access', 'employer', 'application_details', 'experience_required', 'access_to_own_car', 'driving_license_required', 'driving_license', 'occupation', 'occupation_group', 'occupation_field', 'workplace_address', 'must_have', 'nice_to_have', 'application_contacts', 'publication_date', 'last_publication_date', 'removed', 'removed_date', 'source_type', 'timestamp'])"
      ]
     },
     "execution_count": 19,
     "metadata": {},
     "output_type": "execute_result"
    }
   ],
   "source": [
    "json_response[\"hits\"][1].keys() # check keys"
   ]
  },
  {
   "cell_type": "code",
   "execution_count": 20,
   "metadata": {},
   "outputs": [
    {
     "data": {
      "text/plain": [
       "'Data Engineer till Sogeti Stockholm'"
      ]
     },
     "execution_count": 20,
     "metadata": {},
     "output_type": "execute_result"
    }
   ],
   "source": [
    "json_response[\"hits\"][1][\"headline\"]"
   ]
  },
  {
   "cell_type": "code",
   "execution_count": 23,
   "metadata": {},
   "outputs": [],
   "source": [
    "json_response = _get_ads({\"q\":\"data engineer\", \"limit\": 100})\n",
    "#json_response"
   ]
  },
  {
   "cell_type": "code",
   "execution_count": 25,
   "metadata": {},
   "outputs": [
    {
     "data": {
      "text/plain": [
       "('Software Engineer & Data Scientist', 'Hopsworks AB')"
      ]
     },
     "execution_count": 25,
     "metadata": {},
     "output_type": "execute_result"
    }
   ],
   "source": [
    "json_response[\"hits\"][-1][\"headline\"], json_response[\"hits\"][-1][\"employer\"][\"name\"] # we can check the last one, and we can loop all"
   ]
  }
 ],
 "metadata": {
  "kernelspec": {
   "display_name": ".venv",
   "language": "python",
   "name": "python3"
  },
  "language_info": {
   "codemirror_mode": {
    "name": "ipython",
    "version": 3
   },
   "file_extension": ".py",
   "mimetype": "text/x-python",
   "name": "python",
   "nbconvert_exporter": "python",
   "pygments_lexer": "ipython3",
   "version": "3.10.4"
  }
 },
 "nbformat": 4,
 "nbformat_minor": 2
}
